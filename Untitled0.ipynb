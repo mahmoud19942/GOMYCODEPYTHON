{
  "nbformat": 4,
  "nbformat_minor": 0,
  "metadata": {
    "colab": {
      "provenance": []
    },
    "kernelspec": {
      "name": "python3",
      "display_name": "Python 3"
    },
    "language_info": {
      "name": "python"
    }
  },
  "cells": [
    {
      "cell_type": "code",
      "execution_count": 1,
      "metadata": {
        "colab": {
          "base_uri": "https://localhost:8080/"
        },
        "id": "BNQL8zTdHbgv",
        "outputId": "304a104b-1aa8-4852-e9f7-af367671c95b"
      },
      "outputs": [
        {
          "output_type": "stream",
          "name": "stdout",
          "text": [
            "hallo\n"
          ]
        }
      ],
      "source": [
        "print (\"hallo\")"
      ]
    },
    {
      "cell_type": "code",
      "source": [
        "print (\"welcome to python world! Let's start coding\")"
      ],
      "metadata": {
        "colab": {
          "base_uri": "https://localhost:8080/"
        },
        "id": "tbXa0xmZHpHK",
        "outputId": "f1e4f8e4-c043-46fe-c946-2bb1c89381ad"
      },
      "execution_count": 2,
      "outputs": [
        {
          "output_type": "stream",
          "name": "stdout",
          "text": [
            "welcome to python world! Let's start coding\n"
          ]
        }
      ]
    }
  ]
}